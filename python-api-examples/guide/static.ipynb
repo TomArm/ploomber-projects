{
 "cells": [
  {
   "cell_type": "markdown",
   "metadata": {
    "papermill": {
     "duration": 0.015593,
     "end_time": "2020-03-16T21:31:10.367762",
     "exception": false,
     "start_time": "2020-03-16T21:31:10.352169",
     "status": "completed"
    },
    "tags": []
   },
   "source": [
    "# Essential: Static file management with SourceLoader\n",
    "\n",
    "Data pipelines usually interact with external systems such as SQL databases. Using relative paths to find such files is error-prone as the path to the file depends on the file loading it, on the other hand, absolute paths are to restrictive, the path will only work in your current environment but will break others. Combining `Env` with `SourceLoader` provides a clean approach for managing static files."
   ]
  },
  {
   "cell_type": "code",
   "execution_count": 1,
   "metadata": {
    "papermill": {
     "duration": 2.21486,
     "end_time": "2020-03-16T21:31:12.592823",
     "exception": false,
     "start_time": "2020-03-16T21:31:10.377963",
     "status": "completed"
    },
    "tags": []
   },
   "outputs": [],
   "source": [
    "from pathlib import Path\n",
    "\n",
    "import pandas as pd\n",
    "from sklearn import datasets\n",
    "from IPython.display import display, Markdown\n",
    "\n",
    "from ploomber import DAG, SourceLoader, with_env\n",
    "from ploomber.tasks import PythonCallable, NotebookRunner, SQLUpload, SQLScript\n",
    "from ploomber.products import File, SQLiteRelation\n",
    "from ploomber.clients import SQLAlchemyClient\n",
    "from ploomber.executors import Serial"
   ]
  },
  {
   "cell_type": "code",
   "execution_count": 2,
   "metadata": {
    "nbsphinx": "hidden",
    "papermill": {
     "duration": 0.023381,
     "end_time": "2020-03-16T21:31:12.626073",
     "exception": false,
     "start_time": "2020-03-16T21:31:12.602692",
     "status": "completed"
    },
    "tags": []
   },
   "outputs": [],
   "source": [
    "# initialize a temporary directory\n",
    "import tempfile\n",
    "import os\n",
    "tmp_dir = Path(tempfile.mkdtemp())\n",
    "tmp_dir_static = tmp_dir / 'static'\n",
    "tmp_dir_static.mkdir()\n",
    "os.chdir(str(tmp_dir))"
   ]
  },
  {
   "cell_type": "code",
   "execution_count": 3,
   "metadata": {
    "nbsphinx": "hidden",
    "papermill": {
     "duration": 0.021207,
     "end_time": "2020-03-16T21:31:12.656198",
     "exception": false,
     "start_time": "2020-03-16T21:31:12.634991",
     "status": "completed"
    },
    "tags": []
   },
   "outputs": [],
   "source": [
    "report_py = \"\"\"\n",
    "# static/report.py\n",
    "\n",
    "# +\n",
    "# This file is in jupytext light format\n",
    "import seaborn as sns\n",
    "import pandas as pd\n",
    "# -\n",
    "\n",
    "# + tags=['parameters']\n",
    "# papermill will add the parameters below this cell\n",
    "upstream = None\n",
    "product = None\n",
    "# -\n",
    "\n",
    "# +\n",
    "path = upstream['raw']\n",
    "df = pd.read_parquet(path)\n",
    "# -\n",
    "\n",
    "# ## HouseAge distribution\n",
    "\n",
    "# +\n",
    "_ = sns.distplot(df.HouseAge)\n",
    "# -\n",
    "\n",
    "# ## Price distribution\n",
    "\n",
    "# +\n",
    "_ = sns.distplot(df.price)\n",
    "# -\n",
    "\"\"\"\n",
    "\n",
    "clean_table_sql = \"\"\"\n",
    "-- static/clean_table.sql\n",
    "\n",
    "DROP TABLE IF EXISTS {{product}};\n",
    "\n",
    "CREATE TABLE {{product}}\n",
    "AS SELECT * FROM {{upstream[\"raw_table\"]}}\n",
    "WHERE HouseAge < 100\n",
    "\"\"\"\n",
    "\n",
    "env_yaml = \"\"\"\n",
    "_module: '{{here}}'\n",
    "\n",
    "path:\n",
    "    data: '{{here}}/data/'\n",
    "    static: '{{here}}/static/'\n",
    "\"\"\"\n",
    "\n",
    "(tmp_dir_static / 'report.py').write_text(report_py)\n",
    "(tmp_dir_static / 'clean_table.sql').write_text(clean_table_sql)\n",
    "(tmp_dir / 'env.yaml').write_text(env_yaml)\n",
    "\n",
    "def display_file(file, syntax):\n",
    "    s = \"\"\"\n",
    "```{}\n",
    "{}\n",
    "```\n",
    "\"\"\".format(syntax, file)\n",
    "    return display(Markdown(s))"
   ]
  },
  {
   "cell_type": "markdown",
   "metadata": {
    "papermill": {
     "duration": 0.008836,
     "end_time": "2020-03-16T21:31:12.675185",
     "exception": false,
     "start_time": "2020-03-16T21:31:12.666349",
     "status": "completed"
    },
    "tags": []
   },
   "source": [
    "Our working environment has an `env.yaml` file with a `static/` folder holding a SQL and a Python script."
   ]
  },
  {
   "cell_type": "code",
   "execution_count": 4,
   "metadata": {
    "papermill": {
     "duration": 0.222887,
     "end_time": "2020-03-16T21:31:12.907058",
     "exception": false,
     "start_time": "2020-03-16T21:31:12.684171",
     "status": "completed"
    },
    "tags": []
   },
   "outputs": [
    {
     "name": "stdout",
     "output_type": "stream",
     "text": [
      "\u001b[01;34m/var/folders/3h/_lvh_w_x5g30rrjzb_xnn2j80000gq/T/tmpf8svp9hx\u001b[00m\n",
      "├── env.yaml\n",
      "└── \u001b[01;34mstatic\u001b[00m\n",
      "    ├── clean_table.sql\n",
      "    └── report.py\n",
      "\n",
      "1 directory, 3 files\n"
     ]
    }
   ],
   "source": [
    "! tree $tmp_dir"
   ]
  },
  {
   "cell_type": "markdown",
   "metadata": {
    "papermill": {
     "duration": 0.009045,
     "end_time": "2020-03-16T21:31:12.926702",
     "exception": false,
     "start_time": "2020-03-16T21:31:12.917657",
     "status": "completed"
    },
    "tags": []
   },
   "source": [
    "### Content of `env.yaml`"
   ]
  },
  {
   "cell_type": "code",
   "execution_count": 5,
   "metadata": {
    "papermill": {
     "duration": 0.025217,
     "end_time": "2020-03-16T21:31:12.960714",
     "exception": false,
     "start_time": "2020-03-16T21:31:12.935497",
     "status": "completed"
    },
    "tags": []
   },
   "outputs": [
    {
     "data": {
      "text/markdown": [
       "\n",
       "```yaml\n",
       "\n",
       "_module: '{{here}}'\n",
       "\n",
       "path:\n",
       "    data: '{{here}}/data/'\n",
       "    static: '{{here}}/static/'\n",
       "\n",
       "```\n"
      ],
      "text/plain": [
       "<IPython.core.display.Markdown object>"
      ]
     },
     "metadata": {},
     "output_type": "display_data"
    }
   ],
   "source": [
    "display_file(env_yaml, 'yaml')"
   ]
  },
  {
   "cell_type": "markdown",
   "metadata": {
    "papermill": {
     "duration": 0.00967,
     "end_time": "2020-03-16T21:31:12.979987",
     "exception": false,
     "start_time": "2020-03-16T21:31:12.970317",
     "status": "completed"
    },
    "tags": []
   },
   "source": [
    "### Content of `static/report.py`"
   ]
  },
  {
   "cell_type": "code",
   "execution_count": 6,
   "metadata": {
    "papermill": {
     "duration": 0.019911,
     "end_time": "2020-03-16T21:31:13.009855",
     "exception": false,
     "start_time": "2020-03-16T21:31:12.989944",
     "status": "completed"
    },
    "tags": []
   },
   "outputs": [
    {
     "data": {
      "text/markdown": [
       "\n",
       "```python\n",
       "\n",
       "# static/report.py\n",
       "\n",
       "# +\n",
       "# This file is in jupytext light format\n",
       "import seaborn as sns\n",
       "import pandas as pd\n",
       "# -\n",
       "\n",
       "# + tags=['parameters']\n",
       "# papermill will add the parameters below this cell\n",
       "upstream = None\n",
       "product = None\n",
       "# -\n",
       "\n",
       "# +\n",
       "path = upstream['raw']\n",
       "df = pd.read_parquet(path)\n",
       "# -\n",
       "\n",
       "# ## AGE distribution\n",
       "\n",
       "# +\n",
       "_ = sns.distplot(df.AGE)\n",
       "# -\n",
       "\n",
       "# ## Price distribution\n",
       "\n",
       "# +\n",
       "_ = sns.distplot(df.price)\n",
       "# -\n",
       "\n",
       "```\n"
      ],
      "text/plain": [
       "<IPython.core.display.Markdown object>"
      ]
     },
     "metadata": {},
     "output_type": "display_data"
    }
   ],
   "source": [
    "display_file(report_py, 'python')"
   ]
  },
  {
   "cell_type": "markdown",
   "metadata": {
    "papermill": {
     "duration": 0.01006,
     "end_time": "2020-03-16T21:31:13.030626",
     "exception": false,
     "start_time": "2020-03-16T21:31:13.020566",
     "status": "completed"
    },
    "tags": []
   },
   "source": [
    "### Content of `static/create_table.sql`"
   ]
  },
  {
   "cell_type": "code",
   "execution_count": 7,
   "metadata": {
    "papermill": {
     "duration": 0.019809,
     "end_time": "2020-03-16T21:31:13.061643",
     "exception": false,
     "start_time": "2020-03-16T21:31:13.041834",
     "status": "completed"
    },
    "tags": []
   },
   "outputs": [
    {
     "data": {
      "text/markdown": [
       "\n",
       "```sql\n",
       "\n",
       "-- static/clean_table.sql\n",
       "\n",
       "DROP TABLE IF EXISTS {{product}};\n",
       "\n",
       "CREATE TABLE {{product}}\n",
       "AS SELECT * FROM {{upstream[\"raw_table\"]}}\n",
       "WHERE AGE < 100\n",
       "\n",
       "```\n"
      ],
      "text/plain": [
       "<IPython.core.display.Markdown object>"
      ]
     },
     "metadata": {},
     "output_type": "display_data"
    }
   ],
   "source": [
    "display_file(clean_table_sql, 'sql')"
   ]
  },
  {
   "cell_type": "markdown",
   "metadata": {
    "papermill": {
     "duration": 0.010732,
     "end_time": "2020-03-16T21:31:13.083037",
     "exception": false,
     "start_time": "2020-03-16T21:31:13.072305",
     "status": "completed"
    },
    "tags": []
   },
   "source": [
    "### Pipeline declaration"
   ]
  },
  {
   "cell_type": "code",
   "execution_count": 8,
   "metadata": {
    "papermill": {
     "duration": 0.087479,
     "end_time": "2020-03-16T21:31:13.181351",
     "exception": false,
     "start_time": "2020-03-16T21:31:13.093872",
     "status": "completed"
    },
    "tags": []
   },
   "outputs": [],
   "source": [
    "def _get_data(product):\n",
    "    data = datasets.fetch_california_housing()\n",
    "    df = pd.DataFrame(data.data)\n",
    "    df.columns = data.feature_names\n",
    "    df['price'] = data.target\n",
    "    df.to_parquet(str(product))\n",
    "\n",
    "\n",
    "@with_env\n",
    "def make(env):\n",
    "    # NOTE: passing the executor parameter is only required for testing purposes, can be removed\n",
    "    dag = DAG(executor=Serial(build_in_subprocess=False))\n",
    "\n",
    "    client = SQLAlchemyClient('sqlite:///my_db.db')\n",
    "    dag.clients[SQLUpload] = client\n",
    "    dag.clients[SQLiteRelation] = client\n",
    "    dag.clients[SQLScript] = client\n",
    "\n",
    "    # initialize SourceLoader in our static directory\n",
    "    loader = SourceLoader(path=env.path.static)\n",
    "\n",
    "    get_data = PythonCallable(_get_data,\n",
    "                              product=File(tmp_dir / 'raw.parquet'),\n",
    "                              dag=dag,\n",
    "                              name='raw')\n",
    "\n",
    "    # if we do not pass a name, the filename will be used as default\n",
    "    report = NotebookRunner(loader['report.py'],\n",
    "                            product=File(tmp_dir / 'report.html'),\n",
    "                            dag=dag,\n",
    "                            kernelspec_name='python3')\n",
    "\n",
    "    raw_table = SQLUpload(source='{{upstream[\"raw\"]}}',\n",
    "                         product=SQLiteRelation(('raw', 'table')),\n",
    "                         dag=dag,\n",
    "                         name='raw_table')\n",
    "\n",
    "    # same here, no need to pass a name\n",
    "    clean_table = SQLScript(loader['clean_table.sql'],\n",
    "                            product=SQLiteRelation(('clean', 'table')),\n",
    "                            dag=dag)\n",
    "\n",
    "    get_data >> report\n",
    "    get_data >> raw_table >> clean_table\n",
    "    \n",
    "    return dag\n",
    "\n",
    "\n",
    "dag = make()"
   ]
  },
  {
   "cell_type": "markdown",
   "metadata": {
    "papermill": {
     "duration": 0.010846,
     "end_time": "2020-03-16T21:31:13.203332",
     "exception": false,
     "start_time": "2020-03-16T21:31:13.192486",
     "status": "completed"
    },
    "tags": []
   },
   "source": [
    "### Pipeline status"
   ]
  },
  {
   "cell_type": "code",
   "execution_count": 9,
   "metadata": {
    "papermill": {
     "duration": 0.21247,
     "end_time": "2020-03-16T21:31:13.426620",
     "exception": false,
     "start_time": "2020-03-16T21:31:13.214150",
     "status": "completed"
    },
    "tags": []
   },
   "outputs": [
    {
     "data": {
      "application/vnd.jupyter.widget-view+json": {
       "model_id": "40fddf6e10d24edf854afc1eaa556a41",
       "version_major": 2,
       "version_minor": 0
      },
      "text/plain": [
       "HBox(children=(FloatProgress(value=0.0, max=4.0), HTML(value='')))"
      ]
     },
     "metadata": {},
     "output_type": "display_data"
    },
    {
     "name": "stdout",
     "output_type": "stream",
     "text": [
      "\n"
     ]
    },
    {
     "data": {
      "text/html": [
       "<table>\n",
       "<thead>\n",
       "<tr><th>name           </th><th>Last updated    </th><th>Outdated dependencies  </th><th>Outdated code  </th><th>Product                                                                 </th><th>Doc (short)  </th><th>Location                                                                                   </th></tr>\n",
       "</thead>\n",
       "<tbody>\n",
       "<tr><td>raw            </td><td>Has not been run</td><td>False                  </td><td>True           </td><td>/var/folders/3h/_lvh_w_x5g30rrjzb_xnn2j80000gq/T/tmpf8svp9hx/raw.parquet</td><td>             </td><td><ipython-input-8-660343c50db1>:1                                                           </td></tr>\n",
       "<tr><td>report.py      </td><td>Has not been run</td><td>True                   </td><td>True           </td><td>/var/folders/3h/_lvh_w_x5g30rrjzb_xnn2j80000gq/T/tmpf8svp9hx/report.html</td><td>             </td><td>/private/var/folders/3h/_lvh_w_x5g30rrjzb_xnn2j80000gq/T/tmpf8svp9hx/static/report.py      </td></tr>\n",
       "<tr><td>raw_table      </td><td>Has not been run</td><td>True                   </td><td>True           </td><td>raw                                                                     </td><td>             </td><td>                                                                                           </td></tr>\n",
       "<tr><td>clean_table.sql</td><td>Has not been run</td><td>True                   </td><td>True           </td><td>clean                                                                   </td><td>             </td><td>/private/var/folders/3h/_lvh_w_x5g30rrjzb_xnn2j80000gq/T/tmpf8svp9hx/static/clean_table.sql</td></tr>\n",
       "</tbody>\n",
       "</table>"
      ],
      "text/plain": [
       "name             Last updated      Outdated dependencies    Outdated code    Product                                                                   Doc (short)    Location\n",
       "---------------  ----------------  -----------------------  ---------------  ------------------------------------------------------------------------  -------------  -------------------------------------------------------------------------------------------\n",
       "raw              Has not been run  False                    True             /var/folders/3h/_lvh_w_x5g30rrjzb_xnn2j80000gq/T/tmpf8svp9hx/raw.parquet                 <ipython-input-8-660343c50db1>:1\n",
       "report.py        Has not been run  True                     True             /var/folders/3h/_lvh_w_x5g30rrjzb_xnn2j80000gq/T/tmpf8svp9hx/report.html                 /private/var/folders/3h/_lvh_w_x5g30rrjzb_xnn2j80000gq/T/tmpf8svp9hx/static/report.py\n",
       "raw_table        Has not been run  True                     True             raw\n",
       "clean_table.sql  Has not been run  True                     True             clean                                                                                    /private/var/folders/3h/_lvh_w_x5g30rrjzb_xnn2j80000gq/T/tmpf8svp9hx/static/clean_table.sql"
      ]
     },
     "execution_count": 9,
     "metadata": {},
     "output_type": "execute_result"
    }
   ],
   "source": [
    "# Using SourceLoader automatically adds 'Location' column which points to the the source code location\n",
    "dag.status()"
   ]
  },
  {
   "cell_type": "code",
   "execution_count": 10,
   "metadata": {
    "papermill": {
     "duration": 3.065579,
     "end_time": "2020-03-16T21:31:16.504069",
     "exception": false,
     "start_time": "2020-03-16T21:31:13.438490",
     "status": "completed"
    },
    "tags": []
   },
   "outputs": [
    {
     "data": {
      "application/vnd.jupyter.widget-view+json": {
       "model_id": "933333e5fb3f42c0ab90bb7ba2362989",
       "version_major": 2,
       "version_minor": 0
      },
      "text/plain": [
       "HBox(children=(FloatProgress(value=0.0, max=4.0), HTML(value='')))"
      ]
     },
     "metadata": {},
     "output_type": "display_data"
    },
    {
     "name": "stdout",
     "output_type": "stream",
     "text": [
      "\n"
     ]
    },
    {
     "data": {
      "application/vnd.jupyter.widget-view+json": {
       "model_id": "09f3a3193ce84fccb75649c1f6e24086",
       "version_major": 2,
       "version_minor": 0
      },
      "text/plain": [
       "HBox(children=(FloatProgress(value=0.0, max=4.0), HTML(value='')))"
      ]
     },
     "metadata": {},
     "output_type": "display_data"
    },
    {
     "data": {
      "application/vnd.jupyter.widget-view+json": {
       "model_id": "7a283b3a8c5e4cea9b4ca5c862ff6e1f",
       "version_major": 2,
       "version_minor": 0
      },
      "text/plain": [
       "HBox(children=(FloatProgress(value=0.0, description='Executing', max=10.0, style=ProgressStyle(description_wid…"
      ]
     },
     "metadata": {},
     "output_type": "display_data"
    },
    {
     "name": "stdout",
     "output_type": "stream",
     "text": [
      "\n",
      "\n"
     ]
    },
    {
     "data": {
      "text/html": [
       "<table>\n",
       "<thead>\n",
       "<tr><th>name           </th><th>Ran?  </th><th style=\"text-align: right;\">  Elapsed (s)</th><th style=\"text-align: right;\">  Percentage</th></tr>\n",
       "</thead>\n",
       "<tbody>\n",
       "<tr><td>raw            </td><td>True  </td><td style=\"text-align: right;\">     0.121997</td><td style=\"text-align: right;\">    3.90869 </td></tr>\n",
       "<tr><td>raw_table      </td><td>True  </td><td style=\"text-align: right;\">     0.036288</td><td style=\"text-align: right;\">    1.16264 </td></tr>\n",
       "<tr><td>clean_table.sql</td><td>True  </td><td style=\"text-align: right;\">     0.003628</td><td style=\"text-align: right;\">    0.116238</td></tr>\n",
       "<tr><td>report.py      </td><td>True  </td><td style=\"text-align: right;\">     2.95926 </td><td style=\"text-align: right;\">   94.8124  </td></tr>\n",
       "</tbody>\n",
       "</table>"
      ],
      "text/plain": [
       "name             Ran?      Elapsed (s)    Percentage\n",
       "---------------  ------  -------------  ------------\n",
       "raw              True         0.121997      3.90869\n",
       "raw_table        True         0.036288      1.16264\n",
       "clean_table.sql  True         0.003628      0.116238\n",
       "report.py        True         2.95926      94.8124"
      ]
     },
     "execution_count": 10,
     "metadata": {},
     "output_type": "execute_result"
    }
   ],
   "source": [
    "dag.build()"
   ]
  },
  {
   "cell_type": "markdown",
   "metadata": {
    "papermill": {
     "duration": 0.012547,
     "end_time": "2020-03-16T21:31:16.529493",
     "exception": false,
     "start_time": "2020-03-16T21:31:16.516946",
     "status": "completed"
    },
    "tags": []
   },
   "source": [
    "## Advanced jinja2 features\n",
    "\n",
    "`SourceLoader` initializes a proper jinja2 environment, so you can use features such as [macros](https://jinja.palletsprojects.com/en/2.11.x/templates/#macros), this is very useful to maximize SQL code reusability."
   ]
  },
  {
   "cell_type": "code",
   "execution_count": 11,
   "metadata": {
    "nbsphinx": "hidden",
    "papermill": {
     "duration": 0.022869,
     "end_time": "2020-03-16T21:31:16.565393",
     "exception": false,
     "start_time": "2020-03-16T21:31:16.542524",
     "status": "completed"
    },
    "tags": []
   },
   "outputs": [],
   "source": [
    "import shutil\n",
    "shutil.rmtree(str(tmp_dir))"
   ]
  }
 ],
 "metadata": {
  "celltoolbar": "Edit Metadata",
  "kernelspec": {
   "display_name": "vscode",
   "language": "python",
   "name": "python3"
  },
  "language_info": {
   "codemirror_mode": {
    "name": "ipython",
    "version": 3
   },
   "file_extension": ".py",
   "mimetype": "text/x-python",
   "name": "python",
   "nbconvert_exporter": "python",
   "pygments_lexer": "ipython3",
   "version": "3.10.8 (main, Nov  4 2022, 08:45:25) [Clang 12.0.0 ]"
  },
  "papermill": {
   "duration": 7.227304,
   "end_time": "2020-03-16T21:31:16.585846",
   "environment_variables": {},
   "exception": null,
   "input_path": "static.ipynb",
   "output_path": "static.ipynb",
   "parameters": {},
   "start_time": "2020-03-16T21:31:09.358542",
   "version": "2.0.0"
  },
  "vscode": {
   "interpreter": {
    "hash": "311775ae6d8092fc5ad2ca66a4929014f2bf84f063ca6cd26574943ab663bae2"
   }
  },
  "widgets": {
   "application/vnd.jupyter.widget-state+json": {
    "state": {
     "159e4bfc9c6844af8aa21347e6989076": {
      "model_module": "@jupyter-widgets/base",
      "model_module_version": "1.2.0",
      "model_name": "LayoutModel",
      "state": {
       "_model_module": "@jupyter-widgets/base",
       "_model_module_version": "1.2.0",
       "_model_name": "LayoutModel",
       "_view_count": null,
       "_view_module": "@jupyter-widgets/base",
       "_view_module_version": "1.2.0",
       "_view_name": "LayoutView",
       "align_content": null,
       "align_items": null,
       "align_self": null,
       "border": null,
       "bottom": null,
       "display": null,
       "flex": null,
       "flex_flow": null,
       "grid_area": null,
       "grid_auto_columns": null,
       "grid_auto_flow": null,
       "grid_auto_rows": null,
       "grid_column": null,
       "grid_gap": null,
       "grid_row": null,
       "grid_template_areas": null,
       "grid_template_columns": null,
       "grid_template_rows": null,
       "height": null,
       "justify_content": null,
       "justify_items": null,
       "left": null,
       "margin": null,
       "max_height": null,
       "max_width": null,
       "min_height": null,
       "min_width": null,
       "object_fit": null,
       "object_position": null,
       "order": null,
       "overflow": null,
       "overflow_x": null,
       "overflow_y": null,
       "padding": null,
       "right": null,
       "top": null,
       "visibility": null,
       "width": null
      }
     },
     "18f92504b8444bd8baeff77397e8b232": {
      "model_module": "@jupyter-widgets/base",
      "model_module_version": "1.2.0",
      "model_name": "LayoutModel",
      "state": {
       "_model_module": "@jupyter-widgets/base",
       "_model_module_version": "1.2.0",
       "_model_name": "LayoutModel",
       "_view_count": null,
       "_view_module": "@jupyter-widgets/base",
       "_view_module_version": "1.2.0",
       "_view_name": "LayoutView",
       "align_content": null,
       "align_items": null,
       "align_self": null,
       "border": null,
       "bottom": null,
       "display": null,
       "flex": null,
       "flex_flow": null,
       "grid_area": null,
       "grid_auto_columns": null,
       "grid_auto_flow": null,
       "grid_auto_rows": null,
       "grid_column": null,
       "grid_gap": null,
       "grid_row": null,
       "grid_template_areas": null,
       "grid_template_columns": null,
       "grid_template_rows": null,
       "height": null,
       "justify_content": null,
       "justify_items": null,
       "left": null,
       "margin": null,
       "max_height": null,
       "max_width": null,
       "min_height": null,
       "min_width": null,
       "object_fit": null,
       "object_position": null,
       "order": null,
       "overflow": null,
       "overflow_x": null,
       "overflow_y": null,
       "padding": null,
       "right": null,
       "top": null,
       "visibility": null,
       "width": null
      }
     },
     "284c1db50b11483cb76c1a6613e335b9": {
      "model_module": "@jupyter-widgets/controls",
      "model_module_version": "1.5.0",
      "model_name": "HTMLModel",
      "state": {
       "_dom_classes": [],
       "_model_module": "@jupyter-widgets/controls",
       "_model_module_version": "1.5.0",
       "_model_name": "HTMLModel",
       "_view_count": null,
       "_view_module": "@jupyter-widgets/controls",
       "_view_module_version": "1.5.0",
       "_view_name": "HTMLView",
       "description": "",
       "description_tooltip": null,
       "layout": "IPY_MODEL_bf5199bb6dcb4766aec642b0f7e109b5",
       "placeholder": "​",
       "style": "IPY_MODEL_a469dd1387304ed1aa28fb91658e6f71",
       "value": " 4/4 [00:02&lt;00:00,  1.34it/s]"
      }
     },
     "34b784d8af3c427baecd82d64f7bf8ec": {
      "model_module": "@jupyter-widgets/controls",
      "model_module_version": "1.5.0",
      "model_name": "FloatProgressModel",
      "state": {
       "_dom_classes": [],
       "_model_module": "@jupyter-widgets/controls",
       "_model_module_version": "1.5.0",
       "_model_name": "FloatProgressModel",
       "_view_count": null,
       "_view_module": "@jupyter-widgets/controls",
       "_view_module_version": "1.5.0",
       "_view_name": "ProgressView",
       "bar_style": "success",
       "description": "Rendering DAG &quot;No name&quot;: 100%",
       "description_tooltip": null,
       "layout": "IPY_MODEL_159e4bfc9c6844af8aa21347e6989076",
       "max": 4,
       "min": 0,
       "orientation": "horizontal",
       "style": "IPY_MODEL_cd079bb30f544823a836d3dce1bfceb1",
       "value": 4
      }
     },
     "36a5d7f8a0434f0786ed54458ce9e3b0": {
      "model_module": "@jupyter-widgets/base",
      "model_module_version": "1.2.0",
      "model_name": "LayoutModel",
      "state": {
       "_model_module": "@jupyter-widgets/base",
       "_model_module_version": "1.2.0",
       "_model_name": "LayoutModel",
       "_view_count": null,
       "_view_module": "@jupyter-widgets/base",
       "_view_module_version": "1.2.0",
       "_view_name": "LayoutView",
       "align_content": null,
       "align_items": null,
       "align_self": null,
       "border": null,
       "bottom": null,
       "display": null,
       "flex": null,
       "flex_flow": null,
       "grid_area": null,
       "grid_auto_columns": null,
       "grid_auto_flow": null,
       "grid_auto_rows": null,
       "grid_column": null,
       "grid_gap": null,
       "grid_row": null,
       "grid_template_areas": null,
       "grid_template_columns": null,
       "grid_template_rows": null,
       "height": null,
       "justify_content": null,
       "justify_items": null,
       "left": null,
       "margin": null,
       "max_height": null,
       "max_width": null,
       "min_height": null,
       "min_width": null,
       "object_fit": null,
       "object_position": null,
       "order": null,
       "overflow": null,
       "overflow_x": null,
       "overflow_y": null,
       "padding": null,
       "right": null,
       "top": null,
       "visibility": null,
       "width": null
      }
     },
     "3ac44ddfab644a22a4a37e9cd7ef2e19": {
      "model_module": "@jupyter-widgets/base",
      "model_module_version": "1.2.0",
      "model_name": "LayoutModel",
      "state": {
       "_model_module": "@jupyter-widgets/base",
       "_model_module_version": "1.2.0",
       "_model_name": "LayoutModel",
       "_view_count": null,
       "_view_module": "@jupyter-widgets/base",
       "_view_module_version": "1.2.0",
       "_view_name": "LayoutView",
       "align_content": null,
       "align_items": null,
       "align_self": null,
       "border": null,
       "bottom": null,
       "display": null,
       "flex": null,
       "flex_flow": null,
       "grid_area": null,
       "grid_auto_columns": null,
       "grid_auto_flow": null,
       "grid_auto_rows": null,
       "grid_column": null,
       "grid_gap": null,
       "grid_row": null,
       "grid_template_areas": null,
       "grid_template_columns": null,
       "grid_template_rows": null,
       "height": null,
       "justify_content": null,
       "justify_items": null,
       "left": null,
       "margin": null,
       "max_height": null,
       "max_width": null,
       "min_height": null,
       "min_width": null,
       "object_fit": null,
       "object_position": null,
       "order": null,
       "overflow": null,
       "overflow_x": null,
       "overflow_y": null,
       "padding": null,
       "right": null,
       "top": null,
       "visibility": null,
       "width": null
      }
     },
     "4c26df079a9c4540904cef1e956abbdb": {
      "model_module": "@jupyter-widgets/controls",
      "model_module_version": "1.5.0",
      "model_name": "HBoxModel",
      "state": {
       "_dom_classes": [],
       "_model_module": "@jupyter-widgets/controls",
       "_model_module_version": "1.5.0",
       "_model_name": "HBoxModel",
       "_view_count": null,
       "_view_module": "@jupyter-widgets/controls",
       "_view_module_version": "1.5.0",
       "_view_name": "HBoxView",
       "box_style": "",
       "children": [
        "IPY_MODEL_34b784d8af3c427baecd82d64f7bf8ec",
        "IPY_MODEL_d0b7e468367d41309d69e842aa46e741"
       ],
       "layout": "IPY_MODEL_3ac44ddfab644a22a4a37e9cd7ef2e19"
      }
     },
     "55daafa1cc84437c89087c66e2546a39": {
      "model_module": "@jupyter-widgets/controls",
      "model_module_version": "1.5.0",
      "model_name": "ProgressStyleModel",
      "state": {
       "_model_module": "@jupyter-widgets/controls",
       "_model_module_version": "1.5.0",
       "_model_name": "ProgressStyleModel",
       "_view_count": null,
       "_view_module": "@jupyter-widgets/base",
       "_view_module_version": "1.2.0",
       "_view_name": "StyleView",
       "bar_color": null,
       "description_width": "initial"
      }
     },
     "5cc8da47276a4618b01e899ca3713893": {
      "model_module": "@jupyter-widgets/controls",
      "model_module_version": "1.5.0",
      "model_name": "ProgressStyleModel",
      "state": {
       "_model_module": "@jupyter-widgets/controls",
       "_model_module_version": "1.5.0",
       "_model_name": "ProgressStyleModel",
       "_view_count": null,
       "_view_module": "@jupyter-widgets/base",
       "_view_module_version": "1.2.0",
       "_view_name": "StyleView",
       "bar_color": null,
       "description_width": "initial"
      }
     },
     "6512b26e15514172a74473ae73341f89": {
      "model_module": "@jupyter-widgets/base",
      "model_module_version": "1.2.0",
      "model_name": "LayoutModel",
      "state": {
       "_model_module": "@jupyter-widgets/base",
       "_model_module_version": "1.2.0",
       "_model_name": "LayoutModel",
       "_view_count": null,
       "_view_module": "@jupyter-widgets/base",
       "_view_module_version": "1.2.0",
       "_view_name": "LayoutView",
       "align_content": null,
       "align_items": null,
       "align_self": null,
       "border": null,
       "bottom": null,
       "display": null,
       "flex": null,
       "flex_flow": null,
       "grid_area": null,
       "grid_auto_columns": null,
       "grid_auto_flow": null,
       "grid_auto_rows": null,
       "grid_column": null,
       "grid_gap": null,
       "grid_row": null,
       "grid_template_areas": null,
       "grid_template_columns": null,
       "grid_template_rows": null,
       "height": null,
       "justify_content": null,
       "justify_items": null,
       "left": null,
       "margin": null,
       "max_height": null,
       "max_width": null,
       "min_height": null,
       "min_width": null,
       "object_fit": null,
       "object_position": null,
       "order": null,
       "overflow": null,
       "overflow_x": null,
       "overflow_y": null,
       "padding": null,
       "right": null,
       "top": null,
       "visibility": null,
       "width": null
      }
     },
     "7137a53b942842adbd540f940b29b8db": {
      "model_module": "@jupyter-widgets/base",
      "model_module_version": "1.2.0",
      "model_name": "LayoutModel",
      "state": {
       "_model_module": "@jupyter-widgets/base",
       "_model_module_version": "1.2.0",
       "_model_name": "LayoutModel",
       "_view_count": null,
       "_view_module": "@jupyter-widgets/base",
       "_view_module_version": "1.2.0",
       "_view_name": "LayoutView",
       "align_content": null,
       "align_items": null,
       "align_self": null,
       "border": null,
       "bottom": null,
       "display": null,
       "flex": null,
       "flex_flow": null,
       "grid_area": null,
       "grid_auto_columns": null,
       "grid_auto_flow": null,
       "grid_auto_rows": null,
       "grid_column": null,
       "grid_gap": null,
       "grid_row": null,
       "grid_template_areas": null,
       "grid_template_columns": null,
       "grid_template_rows": null,
       "height": null,
       "justify_content": null,
       "justify_items": null,
       "left": null,
       "margin": null,
       "max_height": null,
       "max_width": null,
       "min_height": null,
       "min_width": null,
       "object_fit": null,
       "object_position": null,
       "order": null,
       "overflow": null,
       "overflow_x": null,
       "overflow_y": null,
       "padding": null,
       "right": null,
       "top": null,
       "visibility": null,
       "width": null
      }
     },
     "71f14960cc3942bfb6532aa1011ee988": {
      "model_module": "@jupyter-widgets/controls",
      "model_module_version": "1.5.0",
      "model_name": "DescriptionStyleModel",
      "state": {
       "_model_module": "@jupyter-widgets/controls",
       "_model_module_version": "1.5.0",
       "_model_name": "DescriptionStyleModel",
       "_view_count": null,
       "_view_module": "@jupyter-widgets/base",
       "_view_module_version": "1.2.0",
       "_view_name": "StyleView",
       "description_width": ""
      }
     },
     "808856afbca941f8b244a3d0792534de": {
      "model_module": "@jupyter-widgets/controls",
      "model_module_version": "1.5.0",
      "model_name": "FloatProgressModel",
      "state": {
       "_dom_classes": [],
       "_model_module": "@jupyter-widgets/controls",
       "_model_module_version": "1.5.0",
       "_model_name": "FloatProgressModel",
       "_view_count": null,
       "_view_module": "@jupyter-widgets/controls",
       "_view_module_version": "1.5.0",
       "_view_name": "ProgressView",
       "bar_style": "success",
       "description": "Rendering DAG &quot;No name&quot;: 100%",
       "description_tooltip": null,
       "layout": "IPY_MODEL_e66b008f38c247788f440e5085b32c04",
       "max": 4,
       "min": 0,
       "orientation": "horizontal",
       "style": "IPY_MODEL_bc2fa136eedc4efa80adfeb15cbf63a6",
       "value": 4
      }
     },
     "8c6d60aa2cef4230b71c0d90ffa3bbb0": {
      "model_module": "@jupyter-widgets/base",
      "model_module_version": "1.2.0",
      "model_name": "LayoutModel",
      "state": {
       "_model_module": "@jupyter-widgets/base",
       "_model_module_version": "1.2.0",
       "_model_name": "LayoutModel",
       "_view_count": null,
       "_view_module": "@jupyter-widgets/base",
       "_view_module_version": "1.2.0",
       "_view_name": "LayoutView",
       "align_content": null,
       "align_items": null,
       "align_self": null,
       "border": null,
       "bottom": null,
       "display": null,
       "flex": null,
       "flex_flow": null,
       "grid_area": null,
       "grid_auto_columns": null,
       "grid_auto_flow": null,
       "grid_auto_rows": null,
       "grid_column": null,
       "grid_gap": null,
       "grid_row": null,
       "grid_template_areas": null,
       "grid_template_columns": null,
       "grid_template_rows": null,
       "height": null,
       "justify_content": null,
       "justify_items": null,
       "left": null,
       "margin": null,
       "max_height": null,
       "max_width": null,
       "min_height": null,
       "min_width": null,
       "object_fit": null,
       "object_position": null,
       "order": null,
       "overflow": null,
       "overflow_x": null,
       "overflow_y": null,
       "padding": null,
       "right": null,
       "top": null,
       "visibility": null,
       "width": null
      }
     },
     "9978df62877841138727330737c0e1cb": {
      "model_module": "@jupyter-widgets/base",
      "model_module_version": "1.2.0",
      "model_name": "LayoutModel",
      "state": {
       "_model_module": "@jupyter-widgets/base",
       "_model_module_version": "1.2.0",
       "_model_name": "LayoutModel",
       "_view_count": null,
       "_view_module": "@jupyter-widgets/base",
       "_view_module_version": "1.2.0",
       "_view_name": "LayoutView",
       "align_content": null,
       "align_items": null,
       "align_self": null,
       "border": null,
       "bottom": null,
       "display": null,
       "flex": null,
       "flex_flow": null,
       "grid_area": null,
       "grid_auto_columns": null,
       "grid_auto_flow": null,
       "grid_auto_rows": null,
       "grid_column": null,
       "grid_gap": null,
       "grid_row": null,
       "grid_template_areas": null,
       "grid_template_columns": null,
       "grid_template_rows": null,
       "height": null,
       "justify_content": null,
       "justify_items": null,
       "left": null,
       "margin": null,
       "max_height": null,
       "max_width": null,
       "min_height": null,
       "min_width": null,
       "object_fit": null,
       "object_position": null,
       "order": null,
       "overflow": null,
       "overflow_x": null,
       "overflow_y": null,
       "padding": null,
       "right": null,
       "top": null,
       "visibility": null,
       "width": null
      }
     },
     "9aa9f5f27d674c64a556a4d201c4068c": {
      "model_module": "@jupyter-widgets/controls",
      "model_module_version": "1.5.0",
      "model_name": "HTMLModel",
      "state": {
       "_dom_classes": [],
       "_model_module": "@jupyter-widgets/controls",
       "_model_module_version": "1.5.0",
       "_model_name": "HTMLModel",
       "_view_count": null,
       "_view_module": "@jupyter-widgets/controls",
       "_view_module_version": "1.5.0",
       "_view_name": "HTMLView",
       "description": "",
       "description_tooltip": null,
       "layout": "IPY_MODEL_7137a53b942842adbd540f940b29b8db",
       "placeholder": "​",
       "style": "IPY_MODEL_71f14960cc3942bfb6532aa1011ee988",
       "value": " 10/10 [00:02&lt;00:00,  4.04cell/s]"
      }
     },
     "a469dd1387304ed1aa28fb91658e6f71": {
      "model_module": "@jupyter-widgets/controls",
      "model_module_version": "1.5.0",
      "model_name": "DescriptionStyleModel",
      "state": {
       "_model_module": "@jupyter-widgets/controls",
       "_model_module_version": "1.5.0",
       "_model_name": "DescriptionStyleModel",
       "_view_count": null,
       "_view_module": "@jupyter-widgets/base",
       "_view_module_version": "1.2.0",
       "_view_name": "StyleView",
       "description_width": ""
      }
     },
     "a57f7751d4564dbaa36d1815239dc077": {
      "model_module": "@jupyter-widgets/controls",
      "model_module_version": "1.5.0",
      "model_name": "FloatProgressModel",
      "state": {
       "_dom_classes": [],
       "_model_module": "@jupyter-widgets/controls",
       "_model_module_version": "1.5.0",
       "_model_name": "FloatProgressModel",
       "_view_count": null,
       "_view_module": "@jupyter-widgets/controls",
       "_view_module_version": "1.5.0",
       "_view_name": "ProgressView",
       "bar_style": "success",
       "description": "Executing: 100%",
       "description_tooltip": null,
       "layout": "IPY_MODEL_ecff38e3f2ac4bc3937d012be8607c20",
       "max": 10,
       "min": 0,
       "orientation": "horizontal",
       "style": "IPY_MODEL_55daafa1cc84437c89087c66e2546a39",
       "value": 10
      }
     },
     "b74beb1e87e64ea7a4ae5ccd10109673": {
      "model_module": "@jupyter-widgets/controls",
      "model_module_version": "1.5.0",
      "model_name": "HTMLModel",
      "state": {
       "_dom_classes": [],
       "_model_module": "@jupyter-widgets/controls",
       "_model_module_version": "1.5.0",
       "_model_name": "HTMLModel",
       "_view_count": null,
       "_view_module": "@jupyter-widgets/controls",
       "_view_module_version": "1.5.0",
       "_view_name": "HTMLView",
       "description": "",
       "description_tooltip": null,
       "layout": "IPY_MODEL_36a5d7f8a0434f0786ed54458ce9e3b0",
       "placeholder": "​",
       "style": "IPY_MODEL_f39d0412539946369fb0457562d064ca",
       "value": " 4/4 [00:00&lt;00:00, 87.45it/s]"
      }
     },
     "bc2fa136eedc4efa80adfeb15cbf63a6": {
      "model_module": "@jupyter-widgets/controls",
      "model_module_version": "1.5.0",
      "model_name": "ProgressStyleModel",
      "state": {
       "_model_module": "@jupyter-widgets/controls",
       "_model_module_version": "1.5.0",
       "_model_name": "ProgressStyleModel",
       "_view_count": null,
       "_view_module": "@jupyter-widgets/base",
       "_view_module_version": "1.2.0",
       "_view_name": "StyleView",
       "bar_color": null,
       "description_width": "initial"
      }
     },
     "bf5199bb6dcb4766aec642b0f7e109b5": {
      "model_module": "@jupyter-widgets/base",
      "model_module_version": "1.2.0",
      "model_name": "LayoutModel",
      "state": {
       "_model_module": "@jupyter-widgets/base",
       "_model_module_version": "1.2.0",
       "_model_name": "LayoutModel",
       "_view_count": null,
       "_view_module": "@jupyter-widgets/base",
       "_view_module_version": "1.2.0",
       "_view_name": "LayoutView",
       "align_content": null,
       "align_items": null,
       "align_self": null,
       "border": null,
       "bottom": null,
       "display": null,
       "flex": null,
       "flex_flow": null,
       "grid_area": null,
       "grid_auto_columns": null,
       "grid_auto_flow": null,
       "grid_auto_rows": null,
       "grid_column": null,
       "grid_gap": null,
       "grid_row": null,
       "grid_template_areas": null,
       "grid_template_columns": null,
       "grid_template_rows": null,
       "height": null,
       "justify_content": null,
       "justify_items": null,
       "left": null,
       "margin": null,
       "max_height": null,
       "max_width": null,
       "min_height": null,
       "min_width": null,
       "object_fit": null,
       "object_position": null,
       "order": null,
       "overflow": null,
       "overflow_x": null,
       "overflow_y": null,
       "padding": null,
       "right": null,
       "top": null,
       "visibility": null,
       "width": null
      }
     },
     "c013c531a60c453ca6866b037b851251": {
      "model_module": "@jupyter-widgets/controls",
      "model_module_version": "1.5.0",
      "model_name": "HBoxModel",
      "state": {
       "_dom_classes": [],
       "_model_module": "@jupyter-widgets/controls",
       "_model_module_version": "1.5.0",
       "_model_name": "HBoxModel",
       "_view_count": null,
       "_view_module": "@jupyter-widgets/controls",
       "_view_module_version": "1.5.0",
       "_view_name": "HBoxView",
       "box_style": "",
       "children": [
        "IPY_MODEL_a57f7751d4564dbaa36d1815239dc077",
        "IPY_MODEL_9aa9f5f27d674c64a556a4d201c4068c"
       ],
       "layout": "IPY_MODEL_8c6d60aa2cef4230b71c0d90ffa3bbb0"
      }
     },
     "c4f912e22a7146cc8896b8cac8ec6892": {
      "model_module": "@jupyter-widgets/controls",
      "model_module_version": "1.5.0",
      "model_name": "HBoxModel",
      "state": {
       "_dom_classes": [],
       "_model_module": "@jupyter-widgets/controls",
       "_model_module_version": "1.5.0",
       "_model_name": "HBoxModel",
       "_view_count": null,
       "_view_module": "@jupyter-widgets/controls",
       "_view_module_version": "1.5.0",
       "_view_name": "HBoxView",
       "box_style": "",
       "children": [
        "IPY_MODEL_808856afbca941f8b244a3d0792534de",
        "IPY_MODEL_b74beb1e87e64ea7a4ae5ccd10109673"
       ],
       "layout": "IPY_MODEL_dbecadac418f4cdda694e4652fc070c8"
      }
     },
     "cd079bb30f544823a836d3dce1bfceb1": {
      "model_module": "@jupyter-widgets/controls",
      "model_module_version": "1.5.0",
      "model_name": "ProgressStyleModel",
      "state": {
       "_model_module": "@jupyter-widgets/controls",
       "_model_module_version": "1.5.0",
       "_model_name": "ProgressStyleModel",
       "_view_count": null,
       "_view_module": "@jupyter-widgets/base",
       "_view_module_version": "1.2.0",
       "_view_name": "StyleView",
       "bar_color": null,
       "description_width": "initial"
      }
     },
     "d0b7e468367d41309d69e842aa46e741": {
      "model_module": "@jupyter-widgets/controls",
      "model_module_version": "1.5.0",
      "model_name": "HTMLModel",
      "state": {
       "_dom_classes": [],
       "_model_module": "@jupyter-widgets/controls",
       "_model_module_version": "1.5.0",
       "_model_name": "HTMLModel",
       "_view_count": null,
       "_view_module": "@jupyter-widgets/controls",
       "_view_module_version": "1.5.0",
       "_view_name": "HTMLView",
       "description": "",
       "description_tooltip": null,
       "layout": "IPY_MODEL_6512b26e15514172a74473ae73341f89",
       "placeholder": "​",
       "style": "IPY_MODEL_efdd24176cbd4d0ba20c897ca2a00251",
       "value": " 4/4 [00:00&lt;00:00, 21.43it/s]"
      }
     },
     "dbecadac418f4cdda694e4652fc070c8": {
      "model_module": "@jupyter-widgets/base",
      "model_module_version": "1.2.0",
      "model_name": "LayoutModel",
      "state": {
       "_model_module": "@jupyter-widgets/base",
       "_model_module_version": "1.2.0",
       "_model_name": "LayoutModel",
       "_view_count": null,
       "_view_module": "@jupyter-widgets/base",
       "_view_module_version": "1.2.0",
       "_view_name": "LayoutView",
       "align_content": null,
       "align_items": null,
       "align_self": null,
       "border": null,
       "bottom": null,
       "display": null,
       "flex": null,
       "flex_flow": null,
       "grid_area": null,
       "grid_auto_columns": null,
       "grid_auto_flow": null,
       "grid_auto_rows": null,
       "grid_column": null,
       "grid_gap": null,
       "grid_row": null,
       "grid_template_areas": null,
       "grid_template_columns": null,
       "grid_template_rows": null,
       "height": null,
       "justify_content": null,
       "justify_items": null,
       "left": null,
       "margin": null,
       "max_height": null,
       "max_width": null,
       "min_height": null,
       "min_width": null,
       "object_fit": null,
       "object_position": null,
       "order": null,
       "overflow": null,
       "overflow_x": null,
       "overflow_y": null,
       "padding": null,
       "right": null,
       "top": null,
       "visibility": null,
       "width": null
      }
     },
     "e4b556b16fda4f62a7dbee32d84e3626": {
      "model_module": "@jupyter-widgets/controls",
      "model_module_version": "1.5.0",
      "model_name": "HBoxModel",
      "state": {
       "_dom_classes": [],
       "_model_module": "@jupyter-widgets/controls",
       "_model_module_version": "1.5.0",
       "_model_name": "HBoxModel",
       "_view_count": null,
       "_view_module": "@jupyter-widgets/controls",
       "_view_module_version": "1.5.0",
       "_view_name": "HBoxView",
       "box_style": "",
       "children": [
        "IPY_MODEL_edc66e59c6b248e3a1dc8952dd261783",
        "IPY_MODEL_284c1db50b11483cb76c1a6613e335b9"
       ],
       "layout": "IPY_MODEL_18f92504b8444bd8baeff77397e8b232"
      }
     },
     "e66b008f38c247788f440e5085b32c04": {
      "model_module": "@jupyter-widgets/base",
      "model_module_version": "1.2.0",
      "model_name": "LayoutModel",
      "state": {
       "_model_module": "@jupyter-widgets/base",
       "_model_module_version": "1.2.0",
       "_model_name": "LayoutModel",
       "_view_count": null,
       "_view_module": "@jupyter-widgets/base",
       "_view_module_version": "1.2.0",
       "_view_name": "LayoutView",
       "align_content": null,
       "align_items": null,
       "align_self": null,
       "border": null,
       "bottom": null,
       "display": null,
       "flex": null,
       "flex_flow": null,
       "grid_area": null,
       "grid_auto_columns": null,
       "grid_auto_flow": null,
       "grid_auto_rows": null,
       "grid_column": null,
       "grid_gap": null,
       "grid_row": null,
       "grid_template_areas": null,
       "grid_template_columns": null,
       "grid_template_rows": null,
       "height": null,
       "justify_content": null,
       "justify_items": null,
       "left": null,
       "margin": null,
       "max_height": null,
       "max_width": null,
       "min_height": null,
       "min_width": null,
       "object_fit": null,
       "object_position": null,
       "order": null,
       "overflow": null,
       "overflow_x": null,
       "overflow_y": null,
       "padding": null,
       "right": null,
       "top": null,
       "visibility": null,
       "width": null
      }
     },
     "ecff38e3f2ac4bc3937d012be8607c20": {
      "model_module": "@jupyter-widgets/base",
      "model_module_version": "1.2.0",
      "model_name": "LayoutModel",
      "state": {
       "_model_module": "@jupyter-widgets/base",
       "_model_module_version": "1.2.0",
       "_model_name": "LayoutModel",
       "_view_count": null,
       "_view_module": "@jupyter-widgets/base",
       "_view_module_version": "1.2.0",
       "_view_name": "LayoutView",
       "align_content": null,
       "align_items": null,
       "align_self": null,
       "border": null,
       "bottom": null,
       "display": null,
       "flex": null,
       "flex_flow": null,
       "grid_area": null,
       "grid_auto_columns": null,
       "grid_auto_flow": null,
       "grid_auto_rows": null,
       "grid_column": null,
       "grid_gap": null,
       "grid_row": null,
       "grid_template_areas": null,
       "grid_template_columns": null,
       "grid_template_rows": null,
       "height": null,
       "justify_content": null,
       "justify_items": null,
       "left": null,
       "margin": null,
       "max_height": null,
       "max_width": null,
       "min_height": null,
       "min_width": null,
       "object_fit": null,
       "object_position": null,
       "order": null,
       "overflow": null,
       "overflow_x": null,
       "overflow_y": null,
       "padding": null,
       "right": null,
       "top": null,
       "visibility": null,
       "width": null
      }
     },
     "edc66e59c6b248e3a1dc8952dd261783": {
      "model_module": "@jupyter-widgets/controls",
      "model_module_version": "1.5.0",
      "model_name": "FloatProgressModel",
      "state": {
       "_dom_classes": [],
       "_model_module": "@jupyter-widgets/controls",
       "_model_module_version": "1.5.0",
       "_model_name": "FloatProgressModel",
       "_view_count": null,
       "_view_module": "@jupyter-widgets/controls",
       "_view_module_version": "1.5.0",
       "_view_name": "ProgressView",
       "bar_style": "success",
       "description": "Building task &quot;report.py&quot;: 100%",
       "description_tooltip": null,
       "layout": "IPY_MODEL_9978df62877841138727330737c0e1cb",
       "max": 4,
       "min": 0,
       "orientation": "horizontal",
       "style": "IPY_MODEL_5cc8da47276a4618b01e899ca3713893",
       "value": 4
      }
     },
     "efdd24176cbd4d0ba20c897ca2a00251": {
      "model_module": "@jupyter-widgets/controls",
      "model_module_version": "1.5.0",
      "model_name": "DescriptionStyleModel",
      "state": {
       "_model_module": "@jupyter-widgets/controls",
       "_model_module_version": "1.5.0",
       "_model_name": "DescriptionStyleModel",
       "_view_count": null,
       "_view_module": "@jupyter-widgets/base",
       "_view_module_version": "1.2.0",
       "_view_name": "StyleView",
       "description_width": ""
      }
     },
     "f39d0412539946369fb0457562d064ca": {
      "model_module": "@jupyter-widgets/controls",
      "model_module_version": "1.5.0",
      "model_name": "DescriptionStyleModel",
      "state": {
       "_model_module": "@jupyter-widgets/controls",
       "_model_module_version": "1.5.0",
       "_model_name": "DescriptionStyleModel",
       "_view_count": null,
       "_view_module": "@jupyter-widgets/base",
       "_view_module_version": "1.2.0",
       "_view_name": "StyleView",
       "description_width": ""
      }
     }
    },
    "version_major": 2,
    "version_minor": 0
   }
  }
 },
 "nbformat": 4,
 "nbformat_minor": 4
}
