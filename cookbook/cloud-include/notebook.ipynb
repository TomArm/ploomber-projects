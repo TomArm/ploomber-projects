{
 "cells": [
  {
   "cell_type": "raw",
   "id": "961424c9-74e2-4501-9157-b5b1d2791c2e",
   "metadata": {},
   "source": [
    "# use the include section to tell ploomber which files you need\n",
    "include:\n",
    "  # you can put individual files\n",
    "  - functions.py\n",
    "  # or directories\n",
    "  - more_functions"
   ]
  },
  {
   "cell_type": "code",
   "execution_count": 3,
   "id": "b5cb60e5-d0c1-4dfd-a941-3afb02b192d0",
   "metadata": {},
   "outputs": [],
   "source": [
    "import functions\n",
    "from more_functions.functions import substract"
   ]
  },
  {
   "cell_type": "code",
   "execution_count": 3,
   "id": "27f24fff-5036-4fd2-bf2f-d9ca06619573",
   "metadata": {},
   "outputs": [
    {
     "data": {
      "text/plain": [
       "42"
      ]
     },
     "execution_count": 3,
     "metadata": {},
     "output_type": "execute_result"
    }
   ],
   "source": [
    "functions.add(1, 41)"
   ]
  },
  {
   "cell_type": "code",
   "execution_count": 4,
   "id": "a5ff0812-529f-43e1-b885-41d5d2f15dc6",
   "metadata": {},
   "outputs": [
    {
     "data": {
      "text/plain": [
       "42"
      ]
     },
     "execution_count": 4,
     "metadata": {},
     "output_type": "execute_result"
    }
   ],
   "source": [
    "substract(43, 1)"
   ]
  }
 ],
 "metadata": {
  "kernelspec": {
   "display_name": "Python 3 (ipykernel)",
   "language": "python",
   "name": "python3"
  },
  "language_info": {
   "codemirror_mode": {
    "name": "ipython",
    "version": 3
   },
   "file_extension": ".py",
   "mimetype": "text/x-python",
   "name": "python",
   "nbconvert_exporter": "python",
   "pygments_lexer": "ipython3",
   "version": "3.9.13"
  }
 },
 "nbformat": 4,
 "nbformat_minor": 5
}
